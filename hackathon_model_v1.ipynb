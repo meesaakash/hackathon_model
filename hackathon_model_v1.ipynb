{
 "cells": [
  {
   "cell_type": "code",
   "execution_count": 30,
   "id": "65226b3e",
   "metadata": {},
   "outputs": [],
   "source": [
    "import matplotlib.pyplot as plt\n",
    "import os\n",
    "import re\n",
    "import shutil\n",
    "import string\n",
    "import tensorflow as tf\n",
    "import keras\n",
    "import numpy as np\n",
    "\n",
    "from keras.models import load_model\n",
    "from tensorflow.keras import layers\n",
    "from tensorflow.keras import losses"
   ]
  },
  {
   "cell_type": "code",
   "execution_count": 2,
   "id": "63722e64",
   "metadata": {},
   "outputs": [
    {
     "name": "stdout",
     "output_type": "stream",
     "text": [
      "2.13.0-rc1\n"
     ]
    }
   ],
   "source": [
    "print(tf.__version__)"
   ]
  },
  {
   "cell_type": "code",
   "execution_count": 3,
   "id": "85be4b5f",
   "metadata": {},
   "outputs": [],
   "source": [
    "dataset_dir = os.path.join('/Users/akashmeesa/desktop/aihackathon', 'generated_data')"
   ]
  },
  {
   "cell_type": "code",
   "execution_count": 4,
   "id": "dd35a7c7",
   "metadata": {},
   "outputs": [],
   "source": [
    "# dataset_dir='/Users/akashmeesa/desktop/aihackathon/generated_data'\n"
   ]
  },
  {
   "cell_type": "code",
   "execution_count": 5,
   "id": "a6add465",
   "metadata": {},
   "outputs": [
    {
     "data": {
      "text/plain": [
       "['.DS_Store', 'neg', 'pos']"
      ]
     },
     "execution_count": 5,
     "metadata": {},
     "output_type": "execute_result"
    }
   ],
   "source": [
    "train_dir = os.path.join(dataset_dir, 'train')\n",
    "os.listdir(train_dir)"
   ]
  },
  {
   "cell_type": "code",
   "execution_count": 6,
   "id": "39beb7d4",
   "metadata": {
    "scrolled": false
   },
   "outputs": [
    {
     "name": "stdout",
     "output_type": "stream",
     "text": [
      "15/21/2020         Notice Viewer \n",
      "\n",
      "Loan Administration\n",
      "Deutsche Bank AG, New York\n",
      "\n",
      "Date: 16/27/2017\n",
      "TO: GS Funding 2008-1, LTD\n",
      "ATTN: Agent Notices\n",
      "Fax: \n",
      "Re: CISCO INC(AR 05/12)(MED/CEDG)(C)\n",
      "\n",
      "***** Rate Setting *****\n",
      "\n",
      "Description: USD Loan Repricing for the Deal CISCO INC(AR 05/12)(MED/CEDG)(C)\n",
      "\n",
      "Borrower CISCO INC in Facility 2013 TERM LOAN has the following loans\n",
      "\t\t\t\t\tCurrent Reprice\n",
      "Description\t\tGlobal Amount\tYour Share\tDate\n",
      "--------------------------------------------------------------\n",
      "Libor Option     1150669342.62     637136.96     03/57/2017\n",
      "\n",
      "\n",
      "\n",
      "Borrower CISCO INC in Facility 2013 TERM LOAN will make the following interest payments:\n",
      "\n",
      "Description\t\tGlobal Amount\tYour Share\n",
      "--------------------------------------------------------------\n",
      "Libor Option     5778665.11     3199.7\n",
      "\n",
      "\n",
      "Borrower CISCO INC in Facility 2013 TERM LOAN will have the following new loans:\n",
      "\t\t\tNext Reprice\n",
      "Pricing Option\t\tGlobal Amount\tYour Share\tDate\n",
      "-------------------------------------------------------------- \n",
      "Libor Option     1150669342.62     637136.96     01/08/20234\n",
      "\n",
      "\n",
      "Borrower CISCO INC in Facility 2013 TERM LOAN rates have been set as follows:\n",
      "\t\t\tNext Reprice\n",
      "Description\t\tGlobal Amount\tAll in Rate\tDate\n",
      "-------------------------------------------------------------- \n",
      "Libor Option     1150669342.62     1.840000%     01/08/202\n",
      "Base Rate: 0.090000%\n",
      "Spread: 1.750000%\n",
      "     Projected Interest: 6067598.37    Your Share: 3359.69\n",
      "\n",
      "\n",
      "Deal ISIN: US273462421H\n",
      "Deal CUSIP: 646458832\n",
      "Facility: 2013 Team Loan \n",
      "\n",
      "Facility ISIN: AL288223243O\n",
      "Facility CUSIP: 510401411\n",
      "\n",
      "We will remit your funds USD 3199.7 on the effective date as follows: \n",
      "\n",
      "FOR GS Funding 2008-1, LTD\n",
      "To:\n",
      "Deutsche Trust Company Americas\n",
      "ABD\n",
      "840216776\n",
      "\n",
      "Attn:\n",
      "GS Funding 2008-1, LTD\n",
      "Account Number\n",
      "42533743\n",
      "Bank to Bank Info:\n",
      "\n",
      "Reference:CISCO INC(AR 05/12)(MED/CEDG)(C)\n"
     ]
    }
   ],
   "source": [
    "sample_file = os.path.join(train_dir, 'neg/100.txt')\n",
    "with open(sample_file) as f:\n",
    "  print(f.read())"
   ]
  },
  {
   "cell_type": "code",
   "execution_count": 7,
   "id": "6d0590ef",
   "metadata": {},
   "outputs": [
    {
     "name": "stdout",
     "output_type": "stream",
     "text": [
      "Found 40000 files belonging to 2 classes.\n",
      "Using 32000 files for training.\n"
     ]
    }
   ],
   "source": [
    "batch_size = 32\n",
    "seed = 42\n",
    "\n",
    "raw_train_ds = tf.keras.utils.text_dataset_from_directory(\n",
    "    'generated_data/train', \n",
    "    batch_size=batch_size, \n",
    "    validation_split=0.2, \n",
    "    subset='training', \n",
    "    seed=seed)"
   ]
  },
  {
   "cell_type": "code",
   "execution_count": 8,
   "id": "5b4a0a19",
   "metadata": {},
   "outputs": [
    {
     "name": "stdout",
     "output_type": "stream",
     "text": [
      "Review b'12/41/2020         Notice Viewer \\n\\nLoan Administration\\nDeutsche Bank AG, New York\\n\\nDate: 20/27/2019\\nTO: BOA Funding 2001-1, LTD.\\nATTN: Agent Notices\\nFax: \\nRe: RED BULL INC(MJ 09/05)(IDS/WDES)(C)\\n\\n***** Rate Setting *****\\n\\nDescription: USD Loan Repricing for the Deal RED BULL INC(MJ 09/05)(IDS/WDES)(C)\\n\\nBorrower RED BULL INC in Facility 2011 TERM LOAN has the following loans\\n\\t\\t\\t\\t\\tCurrent Reprice\\nDescription\\t\\tGlobal Amount\\tYour Share\\tDate\\n--------------------------------------------------------------\\nLibor Option     2596069723.44     1437469.39     07/27/20194\\n\\n\\n\\nBorrower RED BULL INC in Facility 2011 TERM LOAN will make the following interest payments:\\n\\nDescription\\t\\tGlobal Amount\\tYour Share\\n--------------------------------------------------------------\\nLibor Option     1788242.68     990.17\\n\\n\\nBorrower RED BULL INC in Facility 2011 TERM LOAN will have the following new loans:\\n\\t\\t\\tNext Reprice\\nPricing Option\\t\\tGlobal Amount\\tYour Share\\tDate\\n-------------------------------------------------------------- \\nLibor Option     2596069723.44     1437469.39     03/21/202\\n\\n\\nBorrower RED BULL INC in Facility 2011 TERM LOAN rates have been set as follows:\\n\\t\\t\\tNext Reprice\\nDescription\\t\\tGlobal Amount\\tAll in Rate\\tDate\\n-------------------------------------------------------------- \\nLibor Option     2596069723.44     1.840000%     16/21/2023\\nBase Rate: 0.090000%\\nSpread: 1.750000%\\n     Projected Interest: 1877654.81    Your Share: 1039.68\\n\\n\\nDeal ISIN: AL74725128P\\nDeal CUSIP: 148465167\\nFacility: 2011 Team Loan \\n\\nFacility ISIN: RU173139339C\\nFacility CUSIP: 208385105\\n\\nWe will remit your funds USD 990.17 on the effective date as follows: \\n\\nFOR BOA Funding 2001-1, LTD.\\nTo:\\nDeutsche Trust Company Americas\\nABD\\n725602708\\n\\nAttn:\\nBOA Funding 2001-1, LTD.\\nAccount Number\\n45791256\\nBank to Bank Info:\\n\\nReference:RED BULL INC(MJ 09/05)(IDS/WDES)(C)'\n",
      "Label 0\n",
      "Review b'05/26/201         Notice Viewer \\n\\nLoan Administration\\nDeutsche Bank AG, New York\\n\\nDate: 01/23/201\\nTO: XYZ Funding 2016-1, LTD.\\nATTN: Agent Notices\\nFax: \\nRe: ALPHABET INC(MJ 09/05)(MED/CEDG)(C)\\n\\n***** Rate Setting *****\\n\\nDescription: USD Loan Repricing for the Deal ALPHABET INC(MJ 09/05)(MED/CEDG)(C)\\n\\nBorrower ALPHABET INC in Facility 2007 TERM LOAN has the following loans\\n\\t\\t\\t\\t\\tCurrent Reprice\\nDescription\\t\\tGlobal Amount\\tYour Share\\tDate\\n--------------------------------------------------------------\\nLibor Option     97459408.09     53964.23     01/23/201\\n\\n\\n\\nBorrower ALPHABET INC in Facility 2007 TERM LOAN will make the following interest payments:\\n\\nDescription\\t\\tGlobal Amount\\tYour Share\\n--------------------------------------------------------------\\nLibor Option     8758254.07     4849.53\\n\\n\\nBorrower ALPHABET INC in Facility 2007 TERM LOAN will have the following new loans:\\n\\t\\t\\tNext Reprice\\nPricing Option\\t\\tGlobal Amount\\tYour Share\\tDate\\n-------------------------------------------------------------- \\nLibor Option     97459408.09     53964.23     09/18/20214\\n\\n\\nBorrower ALPHABET INC in Facility 2007 TERM LOAN rates have been set as follows:\\n\\t\\t\\tNext Reprice\\nDescription\\t\\tGlobal Amount\\tAll in Rate\\tDate\\n-------------------------------------------------------------- \\nLibor Option     97459408.09     1.840000%     09/18/202\\nBase Rate: 0.090000%\\nSpread: 1.750000%\\n     Projected Interest: 9196166.77    Your Share: 5092.01\\n\\n\\nDeal ISIN: UK799303494A\\nDeal CUSIP: 845399495\\nFacility: 2007 Team Loan \\n\\nFacility ISIN: GE294913630P\\nFacility CUSIP: 620832786\\n\\nWe will remit your funds USD 4849.53 on the effective date as follows: \\n\\nFOR XYZ Funding 2016-1, LTD.\\nTo:\\nDeutsche Trust Company Americas\\nABD\\n950546627\\n\\nAttn:\\nXYZ Funding 2016-1, LTD.\\nAccount Number\\n62672454\\nBank to Bank Info:\\n\\nReference:ALPHABET INC(MJ 09/05)(MED/CEDG)(C)'\n",
      "Label 0\n",
      "Review b'08/09/2016         Notice Viewer \\n\\nLoan Administration\\nDeutsche Bank AG, New York\\n\\nDate: 03/28/2016\\nTO: XYZ Funding 2016-1, LTD.\\nATTN: Agent Notices\\nFax: \\nRe: APPLE INC(AR 07/14)(MED/CEDG)(A)\\n\\n***** Rate Setting *****\\n\\nDescription: USD Loan Repricing for the Deal APPLE INC(AR 07/14)(MED/CEDG)(A)\\n\\nBorrower APPLE INC in Facility 2012 TERM LOAN has the following loans\\n\\t\\t\\t\\t\\tCurrent Reprice\\nDescription\\t\\tGlobal Amount\\tYour Share\\tDate\\n--------------------------------------------------------------\\nLibor Option     802875449.61     444560.05     03/28/2016\\n\\n\\n\\nBorrower APPLE INC in Facility 2012 TERM LOAN will make the following interest payments:\\n\\nDescription\\t\\tGlobal Amount\\tYour Share\\n--------------------------------------------------------------\\nLibor Option     8629770.89     4778.39\\n\\n\\nBorrower APPLE INC in Facility 2012 TERM LOAN will have the following new loans:\\n\\t\\t\\tNext Reprice\\nPricing Option\\t\\tGlobal Amount\\tYour Share\\tDate\\n-------------------------------------------------------------- \\nLibor Option     802875449.61     444560.05     08/13/2021\\n\\n\\nBorrower APPLE INC in Facility 2012 TERM LOAN rates have been set as follows:\\n\\t\\t\\tNext Reprice\\nDescription\\t\\tGlobal Amount\\tAll in Rate\\tDate\\n-------------------------------------------------------------- \\nLibor Option     802875449.61     1.840000%     08/13/2021\\nBase Rate: 0.090000%\\nSpread: 1.750000%\\n     Projected Interest: 9061259.43    Your Share: 5017.31\\n\\n\\nDeal ISIN: UK234217463M\\nDeal CUSIP: 418441533\\nFacility: 2012 Team Loan \\n\\nFacility ISIN: RU348932806A\\nFacility CUSIP: 366972503\\n\\nWe will remit your funds USD 4778.39 on the effective date as follows: \\n\\nFOR XYZ Funding 2016-1, LTD.\\nTo:\\nDeutsche Trust Company Americas\\nABD\\n87324874\\n\\nAttn:\\nXYZ Funding 2016-1, LTD.\\nAccount Number\\n18295970\\nBank to Bank Info:\\n\\nReference:APPLE INC(AR 07/14)(MED/CEDG)(A)'\n",
      "Label 1\n"
     ]
    }
   ],
   "source": [
    "for text_batch, label_batch in raw_train_ds.take(1):\n",
    "  for i in range(3):\n",
    "    print(\"Review\", text_batch.numpy()[i])\n",
    "    print(\"Label\", label_batch.numpy()[i])"
   ]
  },
  {
   "cell_type": "code",
   "execution_count": 9,
   "id": "683bc354",
   "metadata": {},
   "outputs": [
    {
     "name": "stdout",
     "output_type": "stream",
     "text": [
      "Label 0 corresponds to neg\n",
      "Label 1 corresponds to pos\n"
     ]
    }
   ],
   "source": [
    "print(\"Label 0 corresponds to\", raw_train_ds.class_names[0])\n",
    "print(\"Label 1 corresponds to\", raw_train_ds.class_names[1])"
   ]
  },
  {
   "cell_type": "code",
   "execution_count": 10,
   "id": "cb3020db",
   "metadata": {},
   "outputs": [
    {
     "name": "stdout",
     "output_type": "stream",
     "text": [
      "Found 40000 files belonging to 2 classes.\n",
      "Using 8000 files for validation.\n"
     ]
    }
   ],
   "source": [
    "raw_val_ds = tf.keras.utils.text_dataset_from_directory(\n",
    "    'generated_data/train', \n",
    "    batch_size=batch_size, \n",
    "    validation_split=0.2, \n",
    "    subset='validation', \n",
    "    seed=seed)"
   ]
  },
  {
   "cell_type": "code",
   "execution_count": 11,
   "id": "4548b98b",
   "metadata": {},
   "outputs": [
    {
     "name": "stdout",
     "output_type": "stream",
     "text": [
      "Found 40000 files belonging to 2 classes.\n"
     ]
    }
   ],
   "source": [
    "raw_test_ds = tf.keras.utils.text_dataset_from_directory(\n",
    "    'generated_data/test', \n",
    "    batch_size=batch_size)\n",
    "\n",
    "## have to generate test good and bad data\n",
    "\n",
    "\n"
   ]
  },
  {
   "cell_type": "code",
   "execution_count": 12,
   "id": "c4054d7e",
   "metadata": {},
   "outputs": [],
   "source": [
    "##this line might break everything\n",
    "def custom_standardization(input_data):\n",
    "  lowercase = tf.strings.lower(input_data)\n",
    "  stripped_html = tf.strings.regex_replace(lowercase, '<br />', ' ')\n",
    "  return tf.strings.regex_replace(stripped_html,\n",
    "                                  '[%s]' % re.escape(string.punctuation),\n",
    "                                  '')"
   ]
  },
  {
   "cell_type": "code",
   "execution_count": 13,
   "id": "3c69083b",
   "metadata": {},
   "outputs": [],
   "source": [
    "max_features = 10000\n",
    "sequence_length = 250\n",
    "\n",
    "vectorize_layer = layers.TextVectorization(\n",
    "    standardize=custom_standardization,\n",
    "    max_tokens=max_features,\n",
    "    output_mode='int',\n",
    "    output_sequence_length=sequence_length)"
   ]
  },
  {
   "cell_type": "code",
   "execution_count": 14,
   "id": "f2c4f12e",
   "metadata": {},
   "outputs": [],
   "source": [
    "# Make a text-only dataset (without labels), then call adapt\n",
    "train_text = raw_train_ds.map(lambda x, y: x)\n",
    "vectorize_layer.adapt(train_text)"
   ]
  },
  {
   "cell_type": "code",
   "execution_count": 15,
   "id": "a85edc85",
   "metadata": {},
   "outputs": [],
   "source": [
    "def vectorize_text(text, label):\n",
    "  text = tf.expand_dims(text, -1)\n",
    "  return vectorize_layer(text), label"
   ]
  },
  {
   "cell_type": "code",
   "execution_count": 16,
   "id": "ce50e971",
   "metadata": {
    "scrolled": true
   },
   "outputs": [
    {
     "name": "stdout",
     "output_type": "stream",
     "text": [
      "Review tf.Tensor(b'03/13/201         Notice Viewer \\n\\nLoan Administration\\nDeutsche Bank AG, New York\\n\\nDate: 16/30/2017\\nTO: BOA Funding 2001-1, LTD.\\nATTN: Agent Notices\\nFax: \\nRe: KRISPY KREME*(MJ 09/05)(DED/JEDM)(C)\\n\\n***** Rate Setting *****\\n\\nDescription: USD Loan Repricing for the Deal KRISPY KREME*(MJ 09/05)(DED/JEDM)(C)\\n\\nBorrower KRISPY KREME INC in Facility 2007 TERM LOAN has the following loans\\n\\t\\t\\t\\t\\tCurrent Reprice\\nDescription\\t\\tGlobal Amount\\tYour Share\\tDate\\n--------------------------------------------------------------\\nLibor Option     5217630592.93     2889053.48     03/30/20174\\n\\n\\n\\nBorrower KRISPY KREME INC in Facility 2007 TERM LOAN will make the following interest payments:\\n\\nDescription\\t\\tGlobal Amount\\tYour Share\\n--------------------------------------------------------------\\nLibor Option     2764644.56     1530.81\\n\\n\\nBorrower KRISPY KREME INC in Facility 2007 TERM LOAN will have the following new loans:\\n\\t\\t\\tNext Reprice\\nPricing Option\\t\\tGlobal Amount\\tYour Share\\tDate\\n-------------------------------------------------------------- \\nLibor Option     5217630592.93     2889053.48     08/44/2020\\n\\n\\nBorrower KRISPY KREME INC in Facility 2007 TERM LOAN rates have been set as follows:\\n\\t\\t\\tNext Reprice\\nDescription\\t\\tGlobal Amount\\tAll in Rate\\tDate\\n-------------------------------------------------------------- \\nLibor Option     5217630592.93     1.840000%     08/14/202\\nBase Rate: 0.090000%\\nSpread: 1.750000%\\n     Projected Interest: 2902876.79    Your Share: 1607.35\\n\\n\\nDeal ISIN: AL132312553B\\nDeal CUSIP: 564106527\\nFacility: 2007 Team Loan \\n\\nFacility ISIN: GE595868085E\\nFacility CUSIP: 286143152\\n\\nWe will remit your funds USD 1530.81 on the effective date as follows: \\n\\nFOR BOA Funding 2001-1, LTD.\\nTo:\\nDeutsche Trust Company Americas\\nABD\\n902933121\\n\\nAttn:\\nBOA Funding 2001-1, LTD.\\nAccount Number\\n30796772\\nBank to Bank Info:\\n\\nReference:KRISPY KREME*(MJ 09/05)(DED/JEDM)(C)', shape=(), dtype=string)\n",
      "Label neg\n",
      "Vectorized review (<tf.Tensor: shape=(1, 250), dtype=int64, numpy=\n",
      "array([[2589,   57,   41,    2,   72,   35,   25,   71,   28,   39,    8,\n",
      "           1,   18,   89,   22,   90,   21,   37,   70,   56,   62,   49,\n",
      "          98,  141,  150,   20,   45,   14,   26,    2,   47,   33,    5,\n",
      "          24,   98,  141,  150,   15,   98,  122,   12,    7,    3,  114,\n",
      "           9,    2,   60,    5,   23,   29,   64,   19,   14,   13,   16,\n",
      "           4,   10,    8,   11,    6,    1,    1, 6216,   15,   98,  122,\n",
      "          12,    7,    3,  114,    9,    2,   17,   58,    5,   23,   31,\n",
      "          53,   14,   13,   16,    4,   10,   11,    6,    1,    1,   15,\n",
      "          98,  122,   12,    7,    3,  114,    9,    2,   17,   32,    5,\n",
      "          23,   28,   29,   27,   19,   52,    6,   13,   16,    4,   10,\n",
      "           8,   11,    6,    1,    1, 4363,   15,   98,  122,   12,    7,\n",
      "           3,  114,    9,    2,   50,   32,   66,   46,   38,   34,   27,\n",
      "          19,   14,   13,   16,   69,    7,   20,    8,   11,    6,    1,\n",
      "          75, 2835,   67,   20,   77,   44,   76,   51,   31,    1,    4,\n",
      "          10,    1,   24,   30,    1,   24,   36,    1,    3,  114,   43,\n",
      "           2,    3,   30,    1,    3,   36,    1,   40,   17,   48,    4,\n",
      "          61,   26,    1,   54,    5,   63,    8,   38,   34,   33,   89,\n",
      "          22,   90,   21,   18,   35,   42,   65,   68,   74,    1,   37,\n",
      "          89,   22,   90,   21,   73,   55,    1,   25,   18,   25,   59,\n",
      "         132,  141,  150,    0,    0,    0,    0,    0,    0,    0,    0,\n",
      "           0,    0,    0,    0,    0,    0,    0,    0,    0,    0,    0,\n",
      "           0,    0,    0,    0,    0,    0,    0,    0,    0,    0,    0,\n",
      "           0,    0,    0,    0,    0,    0,    0,    0]])>, <tf.Tensor: shape=(), dtype=int32, numpy=0>)\n"
     ]
    }
   ],
   "source": [
    "# retrieve a batch (of 32 reviews and labels) from the dataset\n",
    "text_batch, label_batch = next(iter(raw_train_ds))\n",
    "first_review, first_label = text_batch[0], label_batch[0]\n",
    "print(\"Review\", first_review)\n",
    "print(\"Label\", raw_train_ds.class_names[first_label])\n",
    "print(\"Vectorized review\", vectorize_text(first_review, first_label))"
   ]
  },
  {
   "cell_type": "code",
   "execution_count": 17,
   "id": "82dd37a5",
   "metadata": {},
   "outputs": [
    {
     "name": "stdout",
     "output_type": "stream",
     "text": [
      "1287 --->  05222021\n",
      " 313 --->  12292019\n",
      "Vocabulary size: 10000\n"
     ]
    }
   ],
   "source": [
    "##not sure what this does, but will keep for now\n",
    "print(\"1287 ---> \",vectorize_layer.get_vocabulary()[1287])\n",
    "print(\" 313 ---> \",vectorize_layer.get_vocabulary()[313])\n",
    "print('Vocabulary size: {}'.format(len(vectorize_layer.get_vocabulary())))"
   ]
  },
  {
   "cell_type": "code",
   "execution_count": 18,
   "id": "b206fa1e",
   "metadata": {},
   "outputs": [],
   "source": [
    "train_ds = raw_train_ds.map(vectorize_text)\n",
    "val_ds = raw_val_ds.map(vectorize_text)\n",
    "test_ds = raw_test_ds.map(vectorize_text)"
   ]
  },
  {
   "cell_type": "code",
   "execution_count": 19,
   "id": "aa9dc867",
   "metadata": {},
   "outputs": [],
   "source": [
    "AUTOTUNE = tf.data.AUTOTUNE\n",
    "\n",
    "train_ds = train_ds.cache().prefetch(buffer_size=AUTOTUNE)\n",
    "val_ds = val_ds.cache().prefetch(buffer_size=AUTOTUNE)\n",
    "test_ds = test_ds.cache().prefetch(buffer_size=AUTOTUNE)"
   ]
  },
  {
   "cell_type": "code",
   "execution_count": 20,
   "id": "69670476",
   "metadata": {},
   "outputs": [],
   "source": [
    "embedding_dim = 16"
   ]
  },
  {
   "cell_type": "code",
   "execution_count": 21,
   "id": "fbc09215",
   "metadata": {},
   "outputs": [
    {
     "name": "stdout",
     "output_type": "stream",
     "text": [
      "Model: \"sequential\"\n",
      "_________________________________________________________________\n",
      " Layer (type)                Output Shape              Param #   \n",
      "=================================================================\n",
      " embedding (Embedding)       (None, None, 16)          160016    \n",
      "                                                                 \n",
      " dropout (Dropout)           (None, None, 16)          0         \n",
      "                                                                 \n",
      " global_average_pooling1d (  (None, 16)                0         \n",
      " GlobalAveragePooling1D)                                         \n",
      "                                                                 \n",
      " dropout_1 (Dropout)         (None, 16)                0         \n",
      "                                                                 \n",
      " dense (Dense)               (None, 1)                 17        \n",
      "                                                                 \n",
      "=================================================================\n",
      "Total params: 160033 (625.13 KB)\n",
      "Trainable params: 160033 (625.13 KB)\n",
      "Non-trainable params: 0 (0.00 Byte)\n",
      "_________________________________________________________________\n"
     ]
    }
   ],
   "source": [
    "model = tf.keras.Sequential([\n",
    "  layers.Embedding(max_features + 1, embedding_dim),\n",
    "  layers.Dropout(0.2),\n",
    "  layers.GlobalAveragePooling1D(),\n",
    "  layers.Dropout(0.2),\n",
    "  layers.Dense(1)])\n",
    "\n",
    "model.summary()"
   ]
  },
  {
   "cell_type": "code",
   "execution_count": 22,
   "id": "34300998",
   "metadata": {},
   "outputs": [],
   "source": [
    "model.compile(loss=losses.BinaryCrossentropy(from_logits=True),\n",
    "              optimizer='adam',\n",
    "              metrics=tf.metrics.BinaryAccuracy(threshold=0.0))"
   ]
  },
  {
   "cell_type": "code",
   "execution_count": 23,
   "id": "019f8f9a",
   "metadata": {},
   "outputs": [
    {
     "name": "stdout",
     "output_type": "stream",
     "text": [
      "Epoch 1/10\n",
      "1000/1000 [==============================] - 8s 8ms/step - loss: 0.6898 - binary_accuracy: 0.5691 - val_loss: 0.6823 - val_binary_accuracy: 0.8964\n",
      "Epoch 2/10\n",
      "1000/1000 [==============================] - 2s 2ms/step - loss: 0.6631 - binary_accuracy: 0.7854 - val_loss: 0.6373 - val_binary_accuracy: 0.9743\n",
      "Epoch 3/10\n",
      "1000/1000 [==============================] - 1s 1ms/step - loss: 0.5971 - binary_accuracy: 0.9543 - val_loss: 0.5551 - val_binary_accuracy: 0.9996\n",
      "Epoch 4/10\n",
      "1000/1000 [==============================] - 2s 2ms/step - loss: 0.5015 - binary_accuracy: 0.9973 - val_loss: 0.4543 - val_binary_accuracy: 0.9999\n",
      "Epoch 5/10\n",
      "1000/1000 [==============================] - 2s 2ms/step - loss: 0.3984 - binary_accuracy: 0.9999 - val_loss: 0.3546 - val_binary_accuracy: 0.9999\n",
      "Epoch 6/10\n",
      "1000/1000 [==============================] - 2s 2ms/step - loss: 0.3037 - binary_accuracy: 1.0000 - val_loss: 0.2664 - val_binary_accuracy: 1.0000\n",
      "Epoch 7/10\n",
      "1000/1000 [==============================] - 2s 2ms/step - loss: 0.2246 - binary_accuracy: 1.0000 - val_loss: 0.1949 - val_binary_accuracy: 1.0000\n",
      "Epoch 8/10\n",
      "1000/1000 [==============================] - 2s 2ms/step - loss: 0.1625 - binary_accuracy: 1.0000 - val_loss: 0.1400 - val_binary_accuracy: 1.0000\n",
      "Epoch 9/10\n",
      "1000/1000 [==============================] - 2s 2ms/step - loss: 0.1162 - binary_accuracy: 1.0000 - val_loss: 0.0989 - val_binary_accuracy: 1.0000\n",
      "Epoch 10/10\n",
      "1000/1000 [==============================] - 2s 2ms/step - loss: 0.0820 - binary_accuracy: 1.0000 - val_loss: 0.0693 - val_binary_accuracy: 1.0000\n"
     ]
    }
   ],
   "source": [
    "epochs = 10\n",
    "history = model.fit(\n",
    "    train_ds,\n",
    "    validation_data=val_ds,\n",
    "    epochs=epochs)"
   ]
  },
  {
   "cell_type": "code",
   "execution_count": 24,
   "id": "a2dcf628",
   "metadata": {},
   "outputs": [
    {
     "name": "stdout",
     "output_type": "stream",
     "text": [
      "1250/1250 [==============================] - 7s 6ms/step - loss: 0.0692 - binary_accuracy: 1.0000\n",
      "Loss:  0.06915145367383957\n",
      "Accuracy:  0.9999750256538391\n"
     ]
    }
   ],
   "source": [
    "loss, accuracy = model.evaluate(test_ds)\n",
    "\n",
    "print(\"Loss: \", loss)\n",
    "print(\"Accuracy: \", accuracy)"
   ]
  },
  {
   "cell_type": "code",
   "execution_count": 25,
   "id": "bea9f4e6",
   "metadata": {},
   "outputs": [
    {
     "data": {
      "text/plain": [
       "dict_keys(['loss', 'binary_accuracy', 'val_loss', 'val_binary_accuracy'])"
      ]
     },
     "execution_count": 25,
     "metadata": {},
     "output_type": "execute_result"
    }
   ],
   "source": [
    "history_dict = history.history\n",
    "history_dict.keys()"
   ]
  },
  {
   "cell_type": "code",
   "execution_count": 26,
   "id": "66902970",
   "metadata": {},
   "outputs": [
    {
     "data": {
      "image/png": "[encoded data removed]",
      "text/plain": [
       "<Figure size 640x480 with 1 Axes>"
      ]
     },
     "metadata": {},
     "output_type": "display_data"
    }
   ],
   "source": [
    "acc = history_dict['binary_accuracy']\n",
    "val_acc = history_dict['val_binary_accuracy']\n",
    "loss = history_dict['loss']\n",
    "val_loss = history_dict['val_loss']\n",
    "\n",
    "epochs = range(1, len(acc) + 1)\n",
    "\n",
    "# \"bo\" is for \"blue dot\"\n",
    "plt.plot(epochs, loss, 'bo', label='Training loss')\n",
    "# b is for \"solid blue line\"\n",
    "plt.plot(epochs, val_loss, 'b', label='Validation loss')\n",
    "plt.title('Training and validation loss')\n",
    "plt.xlabel('Epochs')\n",
    "plt.ylabel('Loss')\n",
    "plt.legend()\n",
    "\n",
    "plt.show()"
   ]
  },
  {
   "cell_type": "code",
   "execution_count": 27,
   "id": "a672a701",
   "metadata": {},
   "outputs": [
    {
     "data": {
      "image/png": "[encoded data removed]",
      "text/plain": [
       "<Figure size 640x480 with 1 Axes>"
      ]
     },
     "metadata": {},
     "output_type": "display_data"
    }
   ],
   "source": [
    "plt.plot(epochs, acc, 'bo', label='Training acc')\n",
    "plt.plot(epochs, val_acc, 'b', label='Validation acc')\n",
    "plt.title('Training and validation accuracy')\n",
    "plt.xlabel('Epochs')\n",
    "plt.ylabel('Accuracy')\n",
    "plt.legend(loc='lower right')\n",
    "\n",
    "plt.show()"
   ]
  },
  {
   "cell_type": "code",
   "execution_count": 37,
   "id": "eed3ef43",
   "metadata": {},
   "outputs": [
    {
     "name": "stdout",
     "output_type": "stream",
     "text": [
      "1250/1250 [==============================] - 7s 5ms/step - loss: 0.0692 - accuracy: 1.0000\n",
      "0.9999750256538391\n"
     ]
    }
   ],
   "source": [
    "export_model = tf.keras.Sequential([\n",
    "  vectorize_layer,\n",
    "  model,\n",
    "  layers.Activation('sigmoid')\n",
    "])\n",
    "\n",
    "export_model.compile(\n",
    "    loss=losses.BinaryCrossentropy(from_logits=False), optimizer=\"adam\", metrics=['accuracy']\n",
    ")\n",
    "\n",
    "\n",
    "\n",
    "# Test it with `raw_test_ds`, which yields raw strings\n",
    "loss, accuracy = export_model.evaluate(raw_test_ds)\n",
    "print(accuracy)"
   ]
  },
  {
   "cell_type": "code",
   "execution_count": 31,
   "id": "26f1a92b",
   "metadata": {
    "collapsed": true
   },
   "outputs": [
    {
     "name": "stderr",
     "output_type": "stream",
     "text": [
      "/opt/homebrew/lib/python3.11/site-packages/keras/src/engine/training.py:3000: UserWarning: You are saving your model as an HDF5 file via `model.save()`. This file format is considered legacy. We recommend using instead the native Keras format, e.g. `model.save('my_model.keras')`.\n",
      "  saving_api.save_model(\n"
     ]
    },
    {
     "ename": "NameError",
     "evalue": "name 'test_input' is not defined",
     "output_type": "error",
     "traceback": [
      "\u001b[0;31m---------------------------------------------------------------------------\u001b[0m",
      "\u001b[0;31mNameError\u001b[0m                                 Traceback (most recent call last)",
      "Cell \u001b[0;32mIn[31], line 9\u001b[0m\n\u001b[1;32m      2\u001b[0m loadedModel \u001b[38;5;241m=\u001b[39m load_model(\u001b[38;5;124m'\u001b[39m\u001b[38;5;124m/Users/akashmeesa/desktop/aihackathon/my_model.h5\u001b[39m\u001b[38;5;124m'\u001b[39m)\n\u001b[1;32m      3\u001b[0m \u001b[38;5;66;03m# model.save('/Users/akashmeesa/desktop/aihackathon/new_model.keras')\u001b[39;00m\n\u001b[1;32m      4\u001b[0m \n\u001b[1;32m      5\u001b[0m \u001b[38;5;66;03m# reconstructed_model = keras.models.load_model('/Users/akashmeesa/desktop/aihackathon/new_model.keras')\u001b[39;00m\n\u001b[1;32m      6\u001b[0m \n\u001b[1;32m      7\u001b[0m \u001b[38;5;66;03m# Let's check:\u001b[39;00m\n\u001b[1;32m      8\u001b[0m np\u001b[38;5;241m.\u001b[39mtesting\u001b[38;5;241m.\u001b[39massert_allclose(\n\u001b[0;32m----> 9\u001b[0m     model\u001b[38;5;241m.\u001b[39mpredict(\u001b[43mtest_input\u001b[49m), reconstructed_model\u001b[38;5;241m.\u001b[39mpredict(test_input)\n\u001b[1;32m     10\u001b[0m )\n",
      "\u001b[0;31mNameError\u001b[0m: name 'test_input' is not defined"
     ]
    }
   ],
   "source": []
  },
  {
   "cell_type": "code",
   "execution_count": 33,
   "id": "b7dabcf4",
   "metadata": {},
   "outputs": [
    {
     "name": "stdout",
     "output_type": "stream",
     "text": [
      "1/1 [==============================] - 0s 158ms/step\n"
     ]
    },
    {
     "data": {
      "text/plain": [
       "array([[0.05961154],\n",
       "       [0.0773242 ],\n",
       "       [0.9583534 ],\n",
       "       [0.95957386]], dtype=float32)"
      ]
     },
     "execution_count": 33,
     "metadata": {},
     "output_type": "execute_result"
    }
   ],
   "source": [
    "# examples=[]\n",
    "# filename='/Users/akashmeesa/desktop/aihackathon/Hackthon_sampleData.txt'\n",
    "# with open(filename) as f: \n",
    "#     examples.append(custom_standardization(f.read()))\n",
    "# #     export_model.predict(f.read())\n",
    " \n",
    "\n",
    "# convert files to string to be compared to model.\n",
    "\n",
    "def convert_to_string(route):\n",
    "    examples=[]\n",
    "    route ='/Users/akashmeesa/desktop/aihackathon/generated_data/example'\n",
    "\n",
    "    for filename in os.scandir(route):\n",
    "        if filename.is_file(): \n",
    "            with open(filename, 'r') as file:\n",
    "#                 data = file.read().replace('\\n', '').replace('    ','')\n",
    "                data=file.read()\n",
    "                examples.append(data)\n",
    "\n",
    "    #             print(data)\n",
    "    #         print(filename.path)\n",
    "    return examples\n",
    "\n",
    "examples = convert_to_string('route')\n",
    "\n",
    "export_model.predict(examples)"
   ]
  },
  {
   "cell_type": "code",
   "execution_count": 40,
   "id": "15a443ef",
   "metadata": {
    "collapsed": true
   },
   "outputs": [
    {
     "name": "stdout",
     "output_type": "stream",
     "text": [
      "INFO:tensorflow:Assets written to: /Users/akashmeesa/desktop/aihackathon/my_model/assets\n"
     ]
    },
    {
     "name": "stderr",
     "output_type": "stream",
     "text": [
      "INFO:tensorflow:Assets written to: /Users/akashmeesa/desktop/aihackathon/my_model/assets\n"
     ]
    },
    {
     "ename": "AttributeError",
     "evalue": "'NoneType' object has no attribute 'get'",
     "output_type": "error",
     "traceback": [
      "\u001b[0;31m---------------------------------------------------------------------------\u001b[0m",
      "\u001b[0;31mAttributeError\u001b[0m                            Traceback (most recent call last)",
      "Cell \u001b[0;32mIn[40], line 2\u001b[0m\n\u001b[1;32m      1\u001b[0m export_model\u001b[38;5;241m.\u001b[39msave(\u001b[38;5;124m'\u001b[39m\u001b[38;5;124m/Users/akashmeesa/desktop/aihackathon/my_model\u001b[39m\u001b[38;5;124m'\u001b[39m)\n\u001b[0;32m----> 2\u001b[0m loadedModel \u001b[38;5;241m=\u001b[39m \u001b[43mload_model\u001b[49m\u001b[43m(\u001b[49m\u001b[38;5;124;43m'\u001b[39;49m\u001b[38;5;124;43m/Users/akashmeesa/desktop/aihackathon/my_model\u001b[39;49m\u001b[38;5;124;43m'\u001b[39;49m\u001b[43m)\u001b[49m\n\u001b[1;32m      3\u001b[0m \u001b[38;5;66;03m# model.save('/Users/akashmeesa/desktop/aihackathon/new_model.keras')\u001b[39;00m\n\u001b[1;32m      4\u001b[0m \n\u001b[1;32m      5\u001b[0m \u001b[38;5;66;03m# reconstructed_model = keras.models.load_model('/Users/akashmeesa/desktop/aihackathon/new_model.keras')\u001b[39;00m\n\u001b[1;32m      6\u001b[0m \n\u001b[1;32m      7\u001b[0m \u001b[38;5;66;03m# Let's check:\u001b[39;00m\n\u001b[1;32m      8\u001b[0m np\u001b[38;5;241m.\u001b[39mtesting\u001b[38;5;241m.\u001b[39massert_allclose(\n\u001b[1;32m      9\u001b[0m     model\u001b[38;5;241m.\u001b[39mpredict(examples), reconstructed_model\u001b[38;5;241m.\u001b[39mpredict(examples)\n\u001b[1;32m     10\u001b[0m )\n",
      "File \u001b[0;32m/opt/homebrew/lib/python3.11/site-packages/keras/src/saving/saving_api.py:238\u001b[0m, in \u001b[0;36mload_model\u001b[0;34m(filepath, custom_objects, compile, safe_mode, **kwargs)\u001b[0m\n\u001b[1;32m    230\u001b[0m     \u001b[38;5;28;01mreturn\u001b[39;00m saving_lib\u001b[38;5;241m.\u001b[39mload_model(\n\u001b[1;32m    231\u001b[0m         filepath,\n\u001b[1;32m    232\u001b[0m         custom_objects\u001b[38;5;241m=\u001b[39mcustom_objects,\n\u001b[1;32m    233\u001b[0m         \u001b[38;5;28mcompile\u001b[39m\u001b[38;5;241m=\u001b[39m\u001b[38;5;28mcompile\u001b[39m,\n\u001b[1;32m    234\u001b[0m         safe_mode\u001b[38;5;241m=\u001b[39msafe_mode,\n\u001b[1;32m    235\u001b[0m     )\n\u001b[1;32m    237\u001b[0m \u001b[38;5;66;03m# Legacy case.\u001b[39;00m\n\u001b[0;32m--> 238\u001b[0m \u001b[38;5;28;01mreturn\u001b[39;00m \u001b[43mlegacy_sm_saving_lib\u001b[49m\u001b[38;5;241;43m.\u001b[39;49m\u001b[43mload_model\u001b[49m\u001b[43m(\u001b[49m\n\u001b[1;32m    239\u001b[0m \u001b[43m    \u001b[49m\u001b[43mfilepath\u001b[49m\u001b[43m,\u001b[49m\u001b[43m \u001b[49m\u001b[43mcustom_objects\u001b[49m\u001b[38;5;241;43m=\u001b[39;49m\u001b[43mcustom_objects\u001b[49m\u001b[43m,\u001b[49m\u001b[43m \u001b[49m\u001b[38;5;28;43mcompile\u001b[39;49m\u001b[38;5;241;43m=\u001b[39;49m\u001b[38;5;28;43mcompile\u001b[39;49m\u001b[43m,\u001b[49m\u001b[43m \u001b[49m\u001b[38;5;241;43m*\u001b[39;49m\u001b[38;5;241;43m*\u001b[39;49m\u001b[43mkwargs\u001b[49m\n\u001b[1;32m    240\u001b[0m \u001b[43m\u001b[49m\u001b[43m)\u001b[49m\n",
      "File \u001b[0;32m/opt/homebrew/lib/python3.11/site-packages/keras/src/utils/traceback_utils.py:70\u001b[0m, in \u001b[0;36mfilter_traceback.<locals>.error_handler\u001b[0;34m(*args, **kwargs)\u001b[0m\n\u001b[1;32m     67\u001b[0m     filtered_tb \u001b[38;5;241m=\u001b[39m _process_traceback_frames(e\u001b[38;5;241m.\u001b[39m__traceback__)\n\u001b[1;32m     68\u001b[0m     \u001b[38;5;66;03m# To get the full stack trace, call:\u001b[39;00m\n\u001b[1;32m     69\u001b[0m     \u001b[38;5;66;03m# `tf.debugging.disable_traceback_filtering()`\u001b[39;00m\n\u001b[0;32m---> 70\u001b[0m     \u001b[38;5;28;01mraise\u001b[39;00m e\u001b[38;5;241m.\u001b[39mwith_traceback(filtered_tb) \u001b[38;5;28;01mfrom\u001b[39;00m \u001b[38;5;28;01mNone\u001b[39;00m\n\u001b[1;32m     71\u001b[0m \u001b[38;5;28;01mfinally\u001b[39;00m:\n\u001b[1;32m     72\u001b[0m     \u001b[38;5;28;01mdel\u001b[39;00m filtered_tb\n",
      "File \u001b[0;32m/opt/homebrew/lib/python3.11/site-packages/keras/src/saving/legacy/serialization.py:535\u001b[0m, in \u001b[0;36mdeserialize_keras_object\u001b[0;34m(identifier, module_objects, custom_objects, printable_module_name)\u001b[0m\n\u001b[1;32m    533\u001b[0m     obj \u001b[38;5;241m=\u001b[39m object_registration\u001b[38;5;241m.\u001b[39m_GLOBAL_CUSTOM_OBJECTS[object_name]\n\u001b[1;32m    534\u001b[0m \u001b[38;5;28;01melse\u001b[39;00m:\n\u001b[0;32m--> 535\u001b[0m     obj \u001b[38;5;241m=\u001b[39m \u001b[43mmodule_objects\u001b[49m\u001b[38;5;241;43m.\u001b[39;49m\u001b[43mget\u001b[49m(object_name)\n\u001b[1;32m    536\u001b[0m     \u001b[38;5;28;01mif\u001b[39;00m obj \u001b[38;5;129;01mis\u001b[39;00m \u001b[38;5;28;01mNone\u001b[39;00m:\n\u001b[1;32m    537\u001b[0m         \u001b[38;5;28;01mraise\u001b[39;00m \u001b[38;5;167;01mValueError\u001b[39;00m(\n\u001b[1;32m    538\u001b[0m             \u001b[38;5;124mf\u001b[39m\u001b[38;5;124m\"\u001b[39m\u001b[38;5;124mUnknown \u001b[39m\u001b[38;5;132;01m{\u001b[39;00mprintable_module_name\u001b[38;5;132;01m}\u001b[39;00m\u001b[38;5;124m: \u001b[39m\u001b[38;5;124m'\u001b[39m\u001b[38;5;132;01m{\u001b[39;00mobject_name\u001b[38;5;132;01m}\u001b[39;00m\u001b[38;5;124m'\u001b[39m\u001b[38;5;124m. \u001b[39m\u001b[38;5;124m\"\u001b[39m\n\u001b[1;32m    539\u001b[0m             \u001b[38;5;124m\"\u001b[39m\u001b[38;5;124mPlease ensure you are using a \u001b[39m\u001b[38;5;124m\"\u001b[39m\n\u001b[0;32m   (...)\u001b[0m\n\u001b[1;32m    543\u001b[0m             \u001b[38;5;124m\"\u001b[39m\u001b[38;5;124m#registering_the_custom_object for details.\u001b[39m\u001b[38;5;124m\"\u001b[39m\n\u001b[1;32m    544\u001b[0m         )\n",
      "\u001b[0;31mAttributeError\u001b[0m: 'NoneType' object has no attribute 'get'"
     ]
    }
   ],
   "source": [
    "# export_model.save('/Users/akashmeesa/desktop/aihackathon/my_model')\n",
    "# loadedModel = load_model('/Users/akashmeesa/desktop/aihackathon/my_model')\n",
    "# # model.save('/Users/akashmeesa/desktop/aihackathon/new_model.keras')\n",
    "\n",
    "# # reconstructed_model = keras.models.load_model('/Users/akashmeesa/desktop/aihackathon/new_model.keras')\n",
    "\n",
    "# # Let's check:\n",
    "# np.testing.assert_allclose(\n",
    "#     model.predict(examples), reconstructed_model.predict(examples)\n",
    "# )"
   ]
  },
  {
   "cell_type": "code",
   "execution_count": null,
   "id": "bddd0878",
   "metadata": {},
   "outputs": [],
   "source": [
    "#Things i have to change:\n",
    "# i need to create a specific way the data is standardized between building the model and the examples I run in it\n",
    "# preprocessing of data** important step\n",
    "#try to get model analysis size up by increasing size of data for both training and test sets, ramp up to at least 25k for each\n"
   ]
  },
  {
   "cell_type": "code",
   "execution_count": 41,
   "id": "03430021",
   "metadata": {
    "collapsed": true
   },
   "outputs": [
    {
     "ename": "FileNotFoundError",
     "evalue": "[Errno 2] No such file or directory: '/home/jupyter/aiavengers_hackathon/generated_data/sorted_files.txt'",
     "output_type": "error",
     "traceback": [
      "\u001b[0;31m---------------------------------------------------------------------------\u001b[0m",
      "\u001b[0;31mFileNotFoundError\u001b[0m                         Traceback (most recent call last)",
      "Cell \u001b[0;32mIn[41], line 31\u001b[0m\n\u001b[1;32m     28\u001b[0m     \u001b[38;5;28;01mreturn\u001b[39;00m \u001b[38;5;241m0\u001b[39m\n\u001b[1;32m     30\u001b[0m \u001b[38;5;66;03m# examples = convert_to_string_v2('route')\u001b[39;00m\n\u001b[0;32m---> 31\u001b[0m \u001b[43mconvert_to_string_v2\u001b[49m\u001b[43m(\u001b[49m\u001b[38;5;124;43m'\u001b[39;49m\u001b[38;5;124;43mroute\u001b[39;49m\u001b[38;5;124;43m'\u001b[39;49m\u001b[43m)\u001b[49m\n\u001b[1;32m     32\u001b[0m \u001b[38;5;66;03m# export_model.predict(examples)\u001b[39;00m\n",
      "Cell \u001b[0;32mIn[41], line 2\u001b[0m, in \u001b[0;36mconvert_to_string_v2\u001b[0;34m(route)\u001b[0m\n\u001b[1;32m      1\u001b[0m \u001b[38;5;28;01mdef\u001b[39;00m \u001b[38;5;21mconvert_to_string_v2\u001b[39m(route):\n\u001b[0;32m----> 2\u001b[0m     newdatafile\u001b[38;5;241m=\u001b[39m \u001b[38;5;28;43mopen\u001b[39;49m\u001b[43m(\u001b[49m\u001b[38;5;124;43m'\u001b[39;49m\u001b[38;5;124;43m/home/jupyter/aiavengers_hackathon/generated_data/sorted_files.txt\u001b[39;49m\u001b[38;5;124;43m'\u001b[39;49m\u001b[43m,\u001b[49m\u001b[43m \u001b[49m\u001b[38;5;124;43m'\u001b[39;49m\u001b[38;5;124;43mw\u001b[39;49m\u001b[38;5;124;43m'\u001b[39;49m\u001b[43m)\u001b[49m\n\u001b[1;32m      3\u001b[0m     route \u001b[38;5;241m=\u001b[39m\u001b[38;5;124m'\u001b[39m\u001b[38;5;124m/home/jupyter/src/generated_data/example\u001b[39m\u001b[38;5;124m'\u001b[39m\n\u001b[1;32m      4\u001b[0m     counter\u001b[38;5;241m=\u001b[39m\u001b[38;5;241m0\u001b[39m\n",
      "File \u001b[0;32m/opt/homebrew/opt/ipython/libexec/lib/python3.11/site-packages/IPython/core/interactiveshell.py:284\u001b[0m, in \u001b[0;36m_modified_open\u001b[0;34m(file, *args, **kwargs)\u001b[0m\n\u001b[1;32m    277\u001b[0m \u001b[38;5;28;01mif\u001b[39;00m file \u001b[38;5;129;01min\u001b[39;00m {\u001b[38;5;241m0\u001b[39m, \u001b[38;5;241m1\u001b[39m, \u001b[38;5;241m2\u001b[39m}:\n\u001b[1;32m    278\u001b[0m     \u001b[38;5;28;01mraise\u001b[39;00m \u001b[38;5;167;01mValueError\u001b[39;00m(\n\u001b[1;32m    279\u001b[0m         \u001b[38;5;124mf\u001b[39m\u001b[38;5;124m\"\u001b[39m\u001b[38;5;124mIPython won\u001b[39m\u001b[38;5;124m'\u001b[39m\u001b[38;5;124mt let you open fd=\u001b[39m\u001b[38;5;132;01m{\u001b[39;00mfile\u001b[38;5;132;01m}\u001b[39;00m\u001b[38;5;124m by default \u001b[39m\u001b[38;5;124m\"\u001b[39m\n\u001b[1;32m    280\u001b[0m         \u001b[38;5;124m\"\u001b[39m\u001b[38;5;124mas it is likely to crash IPython. If you know what you are doing, \u001b[39m\u001b[38;5;124m\"\u001b[39m\n\u001b[1;32m    281\u001b[0m         \u001b[38;5;124m\"\u001b[39m\u001b[38;5;124myou can use builtins\u001b[39m\u001b[38;5;124m'\u001b[39m\u001b[38;5;124m open.\u001b[39m\u001b[38;5;124m\"\u001b[39m\n\u001b[1;32m    282\u001b[0m     )\n\u001b[0;32m--> 284\u001b[0m \u001b[38;5;28;01mreturn\u001b[39;00m \u001b[43mio_open\u001b[49m\u001b[43m(\u001b[49m\u001b[43mfile\u001b[49m\u001b[43m,\u001b[49m\u001b[43m \u001b[49m\u001b[38;5;241;43m*\u001b[39;49m\u001b[43margs\u001b[49m\u001b[43m,\u001b[49m\u001b[43m \u001b[49m\u001b[38;5;241;43m*\u001b[39;49m\u001b[38;5;241;43m*\u001b[39;49m\u001b[43mkwargs\u001b[49m\u001b[43m)\u001b[49m\n",
      "\u001b[0;31mFileNotFoundError\u001b[0m: [Errno 2] No such file or directory: '/home/jupyter/aiavengers_hackathon/generated_data/sorted_files.txt'"
     ]
    }
   ],
   "source": [
    "# def convert_to_string_v2(route):\n",
    "    \n",
    "#     route ='/Users/akashmeesa/desktop/aihackathon/generated_data/example'\n",
    "#     counter=0\n",
    "#     for filename in os.scandir(route):\n",
    "#         if filename.is_file(): \n",
    "#             with open(filename, 'r') as file:\n",
    "#                 print(counter)\n",
    "#                 examples=[]\n",
    "# #                 data = file.read().replace('\\n', '').replace('    ','')\n",
    "#                 data=file.read()\n",
    "#                 examples.append(data)\n",
    "#                 counter+=1\n",
    "        \n",
    "#         array=export_model.predict(examples)\n",
    "#         print(array)\n",
    "#         if float(array[0][0])>=0.5:\n",
    "#             print(str(filename)+\"this is a good file\")\n",
    "#         else:\n",
    "#             print(str(filename)+\"this is a bad file\")\n",
    "        \n",
    "#     #             print(data)\n",
    "#     #         print(filename.path)\n",
    "#     return 0\n",
    "\n",
    "# # examples = convert_to_string_v2('route')\n",
    "# convert_to_string_v2('route')\n",
    "# # export_model.predict(examples)"
   ]
  },
  {
   "cell_type": "code",
   "execution_count": 44,
   "id": "3a150a3a",
   "metadata": {},
   "outputs": [
    {
     "name": "stdout",
     "output_type": "stream",
     "text": [
      "0\n",
      "1/1 [==============================] - 0s 69ms/step\n",
      "[[0.04403804]]\n",
      "12.txt: Bad File\n",
      "1\n",
      "1/1 [==============================] - 0s 17ms/step\n",
      "[[0.05961153]]\n",
      "75.txt: Bad File\n",
      "2\n",
      "1/1 [==============================] - 0s 18ms/step\n",
      "[[0.07732418]]\n",
      "67.txt: Bad File\n",
      "3\n",
      "1/1 [==============================] - 0s 14ms/step\n",
      "[[0.9583534]]\n",
      "hackathon_84.txt: Good File\n",
      "4\n",
      "1/1 [==============================] - 0s 13ms/step\n",
      "[[0.95957386]]\n",
      "hackathon_83.txt: Good File\n"
     ]
    },
    {
     "data": {
      "text/plain": [
       "0"
      ]
     },
     "execution_count": 44,
     "metadata": {},
     "output_type": "execute_result"
    }
   ],
   "source": [
    "def convert_to_string_v2(route):\n",
    "    newdatafile= open('/Users/akashmeesa/desktop/aihackathon/generated_data/sorted_files.txt', 'w')\n",
    "    route ='/Users/akashmeesa/desktop/aihackathon/generated_data/example'\n",
    "    counter=0\n",
    "    for filename in os.scandir(route):\n",
    "        if filename.is_file(): \n",
    "            with open(filename, 'r') as file:\n",
    "                print(counter)\n",
    "                examples=[]\n",
    "#                 data = file.read().replace('\\n', '').replace('    ','')\n",
    "                data=file.read()\n",
    "                examples.append(data)\n",
    "                counter+=1\n",
    "        \n",
    "        array=export_model.predict(examples)\n",
    "        print(array)\n",
    "        if float(array[0][0])>=0.5:\n",
    "            print(str(filename)[11:-2]+\": Good File\")\n",
    "            newdatafile.write(str(filename)[11:-2]+':Good\\n')\n",
    "        else:\n",
    "            print(str(filename)[11:-2]+\": Bad File\")\n",
    "            newdatafile.write(str(filename)[11:-2]+':Bad\\n')\n",
    "        \n",
    "        \n",
    "    #             print(data)\n",
    "    #         print(filename.path)\n",
    "    newdatafile.close()\n",
    "    return 0\n",
    "\n",
    "# examples = convert_to_string_v2('route')\n",
    "convert_to_string_v2('route')\n",
    "# export_model.predict(examples)"
   ]
  },
  {
   "cell_type": "code",
   "execution_count": null,
   "id": "946687d7",
   "metadata": {},
   "outputs": [],
   "source": []
  }
 ],
 "metadata": {
  "kernelspec": {
   "display_name": "Python 3 (ipykernel)",
   "language": "python",
   "name": "python3"
  },
  "language_info": {
   "codemirror_mode": {
    "name": "ipython",
    "version": 3
   },
   "file_extension": ".py",
   "mimetype": "text/x-python",
   "name": "python",
   "nbconvert_exporter": "python",
   "pygments_lexer": "ipython3",
   "version": "3.11.4"
  }
 },
 "nbformat": 4,
 "nbformat_minor": 5
}
