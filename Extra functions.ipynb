{
 "cells": [
  {
   "cell_type": "code",
   "execution_count": null,
   "id": "7349c1cf",
   "metadata": {},
   "outputs": [],
   "source": [
    "\n",
    "# def convert_to_string(route):\n",
    "#     route='/Users/akashmeesa/desktop/aihackathon/generated_data/example\n",
    "    "
   ]
  },
  {
   "cell_type": "code",
   "execution_count": 14,
   "id": "779e726e",
   "metadata": {
    "scrolled": true
   },
   "outputs": [
    {
     "name": "stdout",
     "output_type": "stream",
     "text": [
      "/Users/akashmeesa/desktop/aihackathon/generated_data/example/75.txt\n",
      "/Users/akashmeesa/desktop/aihackathon/generated_data/example/67.txt\n",
      "/Users/akashmeesa/desktop/aihackathon/generated_data/example/hackathon_84.txt\n",
      "/Users/akashmeesa/desktop/aihackathon/generated_data/example/hackathon_83.txt\n"
     ]
    },
    {
     "data": {
      "text/plain": [
       "['03/22/201 Notice Viewer Loan AdministrationDeutsche Bank AG, New YorkDate: 06/47/2016TO: OPPENHEIMER Funding 2022-2, LTDATTN: Agent NoticesFax: Re: KRISPY KREME*(SD 06/19)(WDF/DEDS)(C)***** Rate Setting *****Description: USD Loan Repricing for the Deal KRISPY KREME*(SD 06/19)(WDF/DEDS)(C)Borrower KRISPY KREME INC in Facility 2014 TERM LOAN has the following loans\\t\\t\\t\\t\\tCurrent RepriceDescription\\t\\tGlobal Amount\\tYour Share\\tDate--------------------------------------------------------------Libor Option 3198055540.78 1770794.87 19/17/2016Borrower KRISPY KREME INC in Facility 2014 TERM LOAN will make the following interest payments:Description\\t\\tGlobal Amount\\tYour Share--------------------------------------------------------------Libor Option 1343984.75 744.18Borrower KRISPY KREME INC in Facility 2014 TERM LOAN will have the following new loans:\\t\\t\\tNext RepricePricing Option\\t\\tGlobal Amount\\tYour Share\\tDate-------------------------------------------------------------- Libor Option 3198055540.78 1770794.87 18/03/2020Borrower KRISPY KREME INC in Facility 2014 TERM LOAN rates have been set as follows:\\t\\t\\tNext RepriceDescription\\t\\tGlobal Amount\\tAll in Rate\\tDate-------------------------------------------------------------- Libor Option 3198055540.78 1.840000% 05/33/2020Base Rate: 0.090000%Spread: 1.750000% Projected Interest: 1411183.99Your Share: 781.39Deal ISIN: MX974287739PDeal CUSIP: 797798450Facility: 2014 Team Loan Facility ISIN: AL268925136GFacility CUSIP: 480972259We will remit your funds USD 744.18 on the effective date as follows: FOR OPPENHEIMER Funding 2022-2, LTDTo:Deutsche Trust Company AmericasABD571159124Attn:OPPENHEIMER Funding 2022-2, LTDAccount Number45596933Bank to Bank Info:Reference:KRISPY KREME*(SD 06/19)(WDF/DEDS)(C)',\n",
       " '05/16/20194 Notice Viewer Loan AdministrationDeutsche Bank AG, New YorkDate: 02/08/20174TO: BOA Funding 2001-1, LTD.ATTN: Agent NoticesFax: Re: BEST BUY INC(BS 08/13)(MED/CEDG)(A)***** Rate Setting *****Description: USD Loan Repricing for the Deal BEST BUY INC(BS 08/13)(MED/CEDG)(A)Borrower BEST BUY INC in Facility 2014 TERM LOAN has the following loans\\t\\t\\t\\t\\tCurrent RepriceDescription\\t\\tGlobal Amount\\tYour Share\\tDate--------------------------------------------------------------Libor Option 7342775167.29 4065766.98 02/38/2017Borrower BEST BUY INC in Facility 2014 TERM LOAN will make the following interest payments:Description\\t\\tGlobal Amount\\tYour Share--------------------------------------------------------------Libor Option 4923262.71 2726.06Borrower BEST BUY INC in Facility 2014 TERM LOAN will have the following new loans:\\t\\t\\tNext RepricePricing Option\\t\\tGlobal Amount\\tYour Share\\tDate-------------------------------------------------------------- Libor Option 7342775167.29 4065766.98 08/60/2021Borrower BEST BUY INC in Facility 2014 TERM LOAN rates have been set as follows:\\t\\t\\tNext RepriceDescription\\t\\tGlobal Amount\\tAll in Rate\\tDate-------------------------------------------------------------- Libor Option 7342775167.29 1.840000% 08/30/20214Base Rate: 0.090000%Spread: 1.750000% Projected Interest: 5169425.85Your Share: 2862.36Deal ISIN: GE410610309BDeal CUSIP: 226960923Facility: 2014 Team Loan Facility ISIN: MX147678643EFacility CUSIP: 587237033We will remit your funds USD 2726.06 on the effective date as follows: FOR BOA Funding 2001-1, LTD.To:Deutsche Trust Company AmericasABD328360740Attn:BOA Funding 2001-1, LTD.Account Number29404377Bank to Bank Info:Reference:BEST BUY INC(BS 08/13)(MED/CEDG)(A)',\n",
       " '10/10/2020 Notice Viewer Loan AdministrationDeutsche Bank AG, New YorkDate: 10/15/2018TO: GS Funding 2008-1, LTDATTN: Agent NoticesFax: Re: ALPHABET INC(AR 05/12)(LEV/CPSG)(C)***** Rate Setting *****Description: USD Loan Repricing for the Deal ALPHABET INC(AR 05/12)(LEV/CPSG)(C)Borrower ALPHABET INC in Facility 2015 TERM LOAN has the following loans\\t\\t\\t\\t\\tCurrent RepriceDescription\\t\\tGlobal Amount\\tYour Share\\tDate--------------------------------------------------------------Libor Option 8019696298.16 4440584.88 10/15/2018Borrower ALPHABET INC in Facility 2015 TERM LOAN will make the following interest payments:Description\\t\\tGlobal Amount\\tYour Share--------------------------------------------------------------Libor Option 224831.4 124.49Borrower ALPHABET INC in Facility 2015 TERM LOAN will have the following new loans:\\t\\t\\tNext RepricePricing Option\\t\\tGlobal Amount\\tYour Share\\tDate-------------------------------------------------------------- Libor Option 8019696298.16 4440584.88 09/14/2021Borrower ALPHABET INC in Facility 2015 TERM LOAN rates have been set as follows:\\t\\t\\tNext RepriceDescription\\t\\tGlobal Amount\\tAll in Rate\\tDate-------------------------------------------------------------- Libor Option 8019696298.16 1.840000% 09/14/2021Base Rate: 0.090000%Spread: 1.750000% Projected Interest: 236072.97Your Share: 130.72Deal ISIN: FR647225558ODeal CUSIP: 150090348Facility: 2015 Team Loan Facility ISIN: CH587711987BFacility CUSIP: 707605593We will remit your funds USD 124.49 on the effective date as follows: FOR GS Funding 2008-1, LTDTo:Deutsche Trust Company AmericasABD790008641Attn:GS Funding 2008-1, LTDAccount Number51722651Bank to Bank Info:Reference:ALPHABET INC(AR 05/12)(LEV/CPSG)(C)',\n",
       " '09/24/2018 Notice Viewer Loan AdministrationDeutsche Bank AG, New YorkDate: 05/18/2017TO: OPPENHEIMER Funding 2022-2, LTDATTN: Agent NoticesFax: Re: ALPHABET INC(SD 06/19)(LEV/CPSG)(A)***** Rate Setting *****Description: USD Loan Repricing for the Deal ALPHABET INC(SD 06/19)(LEV/CPSG)(A)Borrower ALPHABET INC in Facility 2012 TERM LOAN has the following loans\\t\\t\\t\\t\\tCurrent RepriceDescription\\t\\tGlobal Amount\\tYour Share\\tDate--------------------------------------------------------------Libor Option 6630572171.87 3671413.16 05/18/2017Borrower ALPHABET INC in Facility 2012 TERM LOAN will make the following interest payments:Description\\t\\tGlobal Amount\\tYour Share--------------------------------------------------------------Libor Option 569616.72 315.4Borrower ALPHABET INC in Facility 2012 TERM LOAN will have the following new loans:\\t\\t\\tNext RepricePricing Option\\t\\tGlobal Amount\\tYour Share\\tDate-------------------------------------------------------------- Libor Option 6630572171.87 3671413.16 09/29/2020Borrower ALPHABET INC in Facility 2012 TERM LOAN rates have been set as follows:\\t\\t\\tNext RepriceDescription\\t\\tGlobal Amount\\tAll in Rate\\tDate-------------------------------------------------------------- Libor Option 6630572171.87 1.840000% 09/29/2020Base Rate: 0.090000%Spread: 1.750000% Projected Interest: 598097.56Your Share: 331.17Deal ISIN: CH236464057ADeal CUSIP: 9917461Facility: 2012 Team Loan Facility ISIN: RU686864259EFacility CUSIP: 932289261We will remit your funds USD 315.4 on the effective date as follows: FOR OPPENHEIMER Funding 2022-2, LTDTo:Deutsche Trust Company AmericasABD421756926Attn:OPPENHEIMER Funding 2022-2, LTDAccount Number18898847Bank to Bank Info:Reference:ALPHABET INC(SD 06/19)(LEV/CPSG)(A)']"
      ]
     },
     "execution_count": 14,
     "metadata": {},
     "output_type": "execute_result"
    }
   ],
   "source": [
    "import os\n",
    " \n",
    "# assign directory\n",
    "def convert_to_string(route):\n",
    "    examples=[]\n",
    "    route ='/Users/akashmeesa/desktop/aihackathon/generated_data/example'\n",
    "\n",
    "    for filename in os.scandir(route):\n",
    "        if filename.is_file(): \n",
    "            with open(filename, 'r') as file:\n",
    "                data = file.read().replace('\\n', '').replace('    ','')\n",
    "                examples.append(data)\n",
    "\n",
    "    #             print(data)\n",
    "            print(filename.path)\n",
    "    return examples\n",
    "\n",
    "# convert_to_string('ef')"
   ]
  },
  {
   "cell_type": "code",
   "execution_count": 18,
   "id": "a9d23ffd",
   "metadata": {},
   "outputs": [],
   "source": [
    "import matplotlib.pyplot as plt\n",
    "import os\n",
    "import re\n",
    "import shutil\n",
    "import string\n",
    "import tensorflow as tf\n",
    "\n",
    "from tensorflow.keras import layers\n",
    "from tensorflow.keras import losses\n",
    "\n",
    "\n",
    "def custom_standardization(input_data):\n",
    "  lowercase = tf.strings.lower(input_data)\n",
    "  stripped_html = tf.strings.regex_replace(lowercase, '<br />', ' ')\n",
    "  return tf.strings.regex_replace(stripped_html,\n",
    "                                  '[%s]' % re.escape(string.punctuation),\n",
    "                                  '')\n",
    "\n"
   ]
  },
  {
   "cell_type": "code",
   "execution_count": 20,
   "id": "e757fa7a",
   "metadata": {},
   "outputs": [
    {
     "ename": "NameError",
     "evalue": "name 'export_model' is not defined",
     "output_type": "error",
     "traceback": [
      "\u001b[0;31m---------------------------------------------------------------------------\u001b[0m",
      "\u001b[0;31mNameError\u001b[0m                                 Traceback (most recent call last)",
      "Cell \u001b[0;32mIn[20], line 18\u001b[0m\n\u001b[1;32m     14\u001b[0m     \u001b[38;5;28;01mreturn\u001b[39;00m examples\n\u001b[1;32m     16\u001b[0m examples \u001b[38;5;241m=\u001b[39m convert_to_string(\u001b[38;5;124m'\u001b[39m\u001b[38;5;124mroute\u001b[39m\u001b[38;5;124m'\u001b[39m)\n\u001b[0;32m---> 18\u001b[0m \u001b[43mexport_model\u001b[49m\u001b[38;5;241m.\u001b[39mpredict(examples)\n",
      "\u001b[0;31mNameError\u001b[0m: name 'export_model' is not defined"
     ]
    }
   ],
   "source": [
    "def convert_to_string(route):\n",
    "    examples=[]\n",
    "    route ='/Users/akashmeesa/desktop/aihackathon/generated_data/example'\n",
    "\n",
    "    for filename in os.scandir(route):\n",
    "        if filename.is_file(): \n",
    "            with open(filename, 'r') as file:\n",
    "#                 data = file.read().replace('\\n', '').replace('    ','')\n",
    "                data=file.read()\n",
    "                examples.append(data)\n",
    "                \n",
    "    #             print(data)\n",
    "    #         print(filename.path)\n",
    "    return examples\n",
    "\n",
    "examples = convert_to_string('route')\n",
    "\n",
    "export_model.predict(examples)"
   ]
  },
  {
   "cell_type": "code",
   "execution_count": null,
   "id": "43a778f1",
   "metadata": {},
   "outputs": [],
   "source": [
    "#write a function for splitting up the code \n",
    "#file.read().replace('\\n', '').replace('    ','')\n",
    "#if trying to get better accuracy, try adding a function here that strips lines out that are repeated without change (i.e give a template)\n",
    "\n",
    "def preprocessing:\n",
    "    "
   ]
  }
 ],
 "metadata": {
  "kernelspec": {
   "display_name": "Python 3 (ipykernel)",
   "language": "python",
   "name": "python3"
  },
  "language_info": {
   "codemirror_mode": {
    "name": "ipython",
    "version": 3
   },
   "file_extension": ".py",
   "mimetype": "text/x-python",
   "name": "python",
   "nbconvert_exporter": "python",
   "pygments_lexer": "ipython3",
   "version": "3.11.4"
  }
 },
 "nbformat": 4,
 "nbformat_minor": 5
}
